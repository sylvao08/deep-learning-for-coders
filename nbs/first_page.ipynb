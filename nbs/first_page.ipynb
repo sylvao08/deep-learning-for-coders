{
 "cells": [
  {
   "cell_type": "markdown",
   "id": "e56c3ee5",
   "metadata": {},
   "source": [
    "### Bear Classifier"
   ]
  },
  {
   "cell_type": "code",
   "execution_count": 1,
   "id": "8f5b0fb3",
   "metadata": {},
   "outputs": [
    {
     "name": "stdout",
     "output_type": "stream",
     "text": [
      "test text\n"
     ]
    }
   ],
   "source": [
    "print('test text')"
   ]
  },
  {
   "cell_type": "code",
   "execution_count": null,
   "id": "bec7b829",
   "metadata": {},
   "outputs": [],
   "source": []
  }
 ],
 "metadata": {
  "kernelspec": {
   "display_name": "Python 3 (ipykernel)",
   "language": "python",
   "name": "python3"
  },
  "language_info": {
   "codemirror_mode": {
    "name": "ipython",
    "version": 3
   },
   "file_extension": ".py",
   "mimetype": "text/x-python",
   "name": "python",
   "nbconvert_exporter": "python",
   "pygments_lexer": "ipython3",
   "version": "3.9.5"
  }
 },
 "nbformat": 4,
 "nbformat_minor": 5
}
